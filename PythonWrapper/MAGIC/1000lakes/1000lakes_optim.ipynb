{
 "cells": [
  {
   "cell_type": "code",
   "execution_count": 1,
   "metadata": {},
   "outputs": [],
   "source": [
    "from importlib.machinery import SourceFileLoader\n",
    "import pandas as pd\n",
    "\n",
    "wr = SourceFileLoader(\"mobius\", r\"../../mobius.py\").load_module()\n",
    "cu = SourceFileLoader(\"mobius_calib_uncert_lmfit\", r\"../../mobius_calib_uncert_lmfit.py\").load_module()\n",
    "\n",
    "multi = SourceFileLoader(\"multiloop\", r\"../multiloop.py\").load_module()"
   ]
  },
  {
   "cell_type": "code",
   "execution_count": 2,
   "metadata": {},
   "outputs": [],
   "source": [
    "wr.initialize('../../../Applications/MAGIC/magic_simple.dll')\n",
    "\n",
    "parfile = 'templateparameters.dat'\n",
    "infile  = 'templateinputs.dat'\n",
    "\n",
    "dataset = wr.DataSet.setup_from_parameter_and_input_files(parfile, infile)"
   ]
  },
  {
   "cell_type": "code",
   "execution_count": 3,
   "metadata": {},
   "outputs": [
    {
     "name": "stdout",
     "output_type": "stream",
     "text": [
      "Running lake Hokksjøen (ID 9)\n",
      "\n"
     ]
    }
   ],
   "source": [
    "excelfile = 'CCE-soil BJC.xls'\n",
    "\n",
    "#soil_df = pd.read_excel(excelfile, sheet_name='CCE-soil', header=16, skiprows=[17], index_col=1)\n",
    "\n",
    "multi.do_magic_loop(dataset, excelfile, None)\n",
    "\n",
    "#soil_df"
   ]
  },
  {
   "cell_type": "code",
   "execution_count": null,
   "metadata": {},
   "outputs": [],
   "source": []
  }
 ],
 "metadata": {
  "kernelspec": {
   "display_name": "Python 3",
   "language": "python",
   "name": "python3"
  },
  "language_info": {
   "codemirror_mode": {
    "name": "ipython",
    "version": 3
   },
   "file_extension": ".py",
   "mimetype": "text/x-python",
   "name": "python",
   "nbconvert_exporter": "python",
   "pygments_lexer": "ipython3",
   "version": "3.7.2"
  }
 },
 "nbformat": 4,
 "nbformat_minor": 2
}

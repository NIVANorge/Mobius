{
 "cells": [
  {
   "cell_type": "code",
   "execution_count": 6,
   "metadata": {},
   "outputs": [],
   "source": [
    "import numpy as np, imp, os, datetime as dt, pandas as pd, matplotlib.pyplot as plt\n",
    "\n",
    "# Path to folder containing wrapper modules\n",
    "wrapper_fpath = (r\"..\\inca.py\")\n",
    "optimize_funs_fpath = (r'..\\inca_calibration.py')\n",
    "\n",
    "wr = imp.load_source('inca',wrapper_fpath)\n",
    "cf = imp.load_source('inca_calibration', optimize_funs_fpath)"
   ]
  },
  {
   "cell_type": "code",
   "execution_count": 17,
   "metadata": {},
   "outputs": [],
   "source": [
    "catchment = 'Morsa' # Choose from: 'Morsa','Tarland'\n",
    "wr.initialize('simplyp.dll')\n",
    "dataset = wr.DataSet.setup_from_parameter_and_input_files('../../Applications/SimplyP/%s/%sParameters.dat'%(catchment,catchment),\n",
    "                                                            '../../Applications/SimplyP/%s/%sInputs.dat'%(catchment,catchment))"
   ]
  },
  {
   "cell_type": "code",
   "execution_count": 18,
   "metadata": {},
   "outputs": [
    {
     "name": "stdout",
     "output_type": "stream",
     "text": [
      "Index sets: ['Reaches', 'Landscape units']\n",
      "Indices in 1st index set: ['Kure']\n",
      "Indices in 2nd index set: ['Arable', 'Improved grassland', 'Semi-natural']\n"
     ]
    }
   ],
   "source": [
    "print ('Index sets: %s' %dataset.get_index_sets())\n",
    "print ('Indices in 1st index set: %s' %dataset.get_indexes(dataset.get_index_sets()[0]))\n",
    "print ('Indices in 2nd index set: %s' %dataset.get_indexes(dataset.get_index_sets()[1]))"
   ]
  },
  {
   "cell_type": "code",
   "execution_count": 19,
   "metadata": {},
   "outputs": [
    {
     "name": "stdout",
     "output_type": "stream",
     "text": [
      "['Timesteps', 'Start date', 'Latitude', 'Initial snow depth as water equivalent', 'Degree-day factor for snowmelt', 'Proportion of precipitation that contributes to quick flow', 'PET multiplication factor', 'Soil field capacity', 'Baseflow index', 'Groundwater time constant', 'Minimum groundwater flow', 'Gradient of reach velocity-discharge relationship', 'Exponent of reach velocity-discharge relationship', 'Catchment area', 'Reach length', 'Initial in-stream flow', 'Soil water time constant', 'Land use proportions', 'Dynamic erodibility', 'Reach sediment input scaling factor', 'Sediment input non-linear coefficient', 'Day of year when soil erodibility is at its max for spring-grown crops', 'Day of year when soil erodibility is at its max for autumn-grown crops', 'Reach slope', 'Proportion of spring grown crops', 'Mean slope of land in the subcatchment', 'Vegetation cover factor', 'Reduction of load in sediment', 'Soil mass per m2', 'Phosphorous sorption coefficient', 'Net annual P input to agricultural soil', 'Net annual P input to newly-converted soil', 'Groundwater TDP concentration', 'Particulate P enrichment factor', 'SRP fraction', 'Reach effluent TDP inputs', 'Newly-converted type', 'Initial soil water TDP concentration and EPC0', 'Initial total soil P content', 'Land use proportions from newly-converted', 'Dynamic soil water EPC0, TDP and soil labile P', 'Run in calibration mode', 'Is input to water body']\n"
     ]
    }
   ],
   "source": [
    "paramTupleList = dataset.get_parameter_list()\n",
    "paramList = [i[0] for i in paramTupleList]\n",
    "print (paramList)"
   ]
  },
  {
   "cell_type": "code",
   "execution_count": 24,
   "metadata": {},
   "outputs": [
    {
     "data": {
      "text/plain": [
       "['Degree-day factor for snowmelt',\n",
       " 'Proportion of precipitation that contributes to quick flow',\n",
       " 'PET reduction factor',\n",
       " 'Soil field capacity',\n",
       " 'Baseflow index',\n",
       " 'Groundwater time constant',\n",
       " 'Minimum groundwater flow',\n",
       " 'Gradient of stream velocity-discharge relationship',\n",
       " 'Soil water time constant',\n",
       " 'Reach sediment input scaling factor',\n",
       " 'Sediment input non-linear coefficient',\n",
       " 'Groundwater TDP concentration',\n",
       " 'Particulate P enrichment factor',\n",
       " 'SRP fraction',\n",
       " 'Reach effluent TDP inputs',\n",
       " 'Initial soil water EPC0']"
      ]
     },
     "execution_count": 24,
     "metadata": {},
     "output_type": "execute_result"
    }
   ],
   "source": [
    "# Drop non-variable params\n",
    "constantParams = ['Timesteps','Start date', 'Latitude','Catchment area', 'Reach length', 'Land use proportions',\n",
    "                  'Land use proportions from newly-converted', 'Reach slope', 'Dynamic EPC0', 'Is input to water body',\n",
    "                  'Proportion of spring grown crops', 'Mean slope of land in the subcatchment',\n",
    "                  'Reduction of load in sediment', 'Soil mass per m2', 'Phosphorous sorption coefficient',\n",
    "                  'Net annual P input to newly-converted soil', \n",
    "                  'Dynamic erodibility', 'Newly-converted type', 'Initial total soil P content',\n",
    "                  'Net annual P input to agricultural soil',\n",
    "                  'Exponent of stream velocity-discharge relationship',\n",
    "                  'Day of year when soil erodibility is at its max for spring-grown crops',\n",
    "                  'Day of year when soil erodibility is at its max for autumn-grown crops',\n",
    "                  'Vegetation cover factor']\n",
    "initialParams = ['Initial snow depth','Initial in-stream flow', 'Initial soil temperature']\n",
    "paramList = [x for x in paramList if x not in constantParams]\n",
    "paramList = [x for x in paramList if x not in initialParams]\n",
    "paramList"
   ]
  },
  {
   "cell_type": "code",
   "execution_count": 7,
   "metadata": {},
   "outputs": [],
   "source": [
    "# Make a dataframe for params to go in and write to csv\n",
    "param_df = pd.DataFrame(data=paramList, index=np.arange(len(paramList)), columns=['Param_long'])\n",
    "fpath = r'C:\\Data\\GitHub\\INCABuilder\\PythonWrapper\\SimplyP\\SimplyP_calParams_ranges.csv'\n",
    "param_df.to_csv(fpath)"
   ]
  },
  {
   "cell_type": "code",
   "execution_count": 25,
   "metadata": {},
   "outputs": [
    {
     "name": "stdout",
     "output_type": "stream",
     "text": [
      "Soil water time constant: ['Arable', 'Improved grassland', 'Semi-natural']\n",
      "Reach effluent TDP inputs: ['Tarland1']\n",
      "Initial soil water EPC0: ['Arable', 'Improved grassland', 'Semi-natural']\n"
     ]
    }
   ],
   "source": [
    "# Which of these params are indexed, and what are the indices?\n",
    "# Add a row in the csv written out above for each param which is indexed\n",
    "for param in paramList:\n",
    "    indexers = dataset.get_parameter_index_sets(param)\n",
    "    if len(dataset.get_parameter_index_sets(param))>=1:\n",
    "        indices = dataset.get_indexes(indexers[0])\n",
    "        print ('%s: %s' %(param, indices))"
   ]
  },
  {
   "cell_type": "code",
   "execution_count": 22,
   "metadata": {},
   "outputs": [],
   "source": [
    "# Read in amended csv with short names and param ranges\n",
    "fpath = r'C:\\Data\\GitHub\\INCABuilder\\PythonWrapper\\SimplyP\\SimplyP_calParams_ranges.csv'\n",
    "param_df = pd.read_csv(fpath)\n",
    "param_df['calibration'] = list(zip(param_df.Param_long, param_df.Indexes)) #NB need to convert string to list for indexes\n",
    "\n",
    "# Extract inputs\n",
    "param_min = param_df['Min']\n",
    "param_max = param_df['Max']\n",
    "labels_short = param_df['ShortName']\n",
    "calibration = list(param_df['calibration'].values)"
   ]
  },
  {
   "cell_type": "code",
   "execution_count": null,
   "metadata": {},
   "outputs": [],
   "source": []
  }
 ],
 "metadata": {
  "kernelspec": {
   "display_name": "Python 3",
   "language": "python",
   "name": "python3"
  },
  "language_info": {
   "codemirror_mode": {
    "name": "ipython",
    "version": 3
   },
   "file_extension": ".py",
   "mimetype": "text/x-python",
   "name": "python",
   "nbconvert_exporter": "python",
   "pygments_lexer": "ipython3",
   "version": "3.6.8"
  }
 },
 "nbformat": 4,
 "nbformat_minor": 2
}

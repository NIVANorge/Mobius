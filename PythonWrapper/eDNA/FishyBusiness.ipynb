{
 "cells": [
  {
   "cell_type": "code",
   "execution_count": 1,
   "id": "dd915d0f",
   "metadata": {},
   "outputs": [],
   "source": [
    "from importlib.machinery import SourceFileLoader\n",
    "import pandas as pd\n",
    "import numpy  as np\n",
    "import matplotlib.pyplot as plt\n",
    "\n",
    "wr = SourceFileLoader(\"mobius\", r\"../mobius.py\").load_module()\n",
    "cu = SourceFileLoader(\"mobius_calib_uncert_lmfit\", r\"../mobius_calib_uncert_lmfit.py\").load_module()"
   ]
  },
  {
   "cell_type": "code",
   "execution_count": 2,
   "id": "f32794c5",
   "metadata": {},
   "outputs": [],
   "source": [
    "wr.initialize(\"../../Applications/eDNA/edna.dll\")"
   ]
  },
  {
   "cell_type": "code",
   "execution_count": 3,
   "id": "9a6ac989",
   "metadata": {},
   "outputs": [],
   "source": [
    "ds = wr.DataSet.setup_with_blank_index_sets(\"input_template.dat\")"
   ]
  },
  {
   "cell_type": "code",
   "execution_count": 4,
   "id": "3390094a",
   "metadata": {},
   "outputs": [],
   "source": [
    "species = [\"Test\"]\n",
    "ds.set_indexes(\"Fish species\", species)"
   ]
  },
  {
   "cell_type": "code",
   "execution_count": 5,
   "id": "38e34aa5",
   "metadata": {},
   "outputs": [],
   "source": [
    "n_reaches = 100\n",
    "\n",
    "reaches = []\n",
    "for i in range(n_reaches) :\n",
    "    prev = []\n",
    "    if i > 0 :\n",
    "        prev = [str(i-1)]\n",
    "    pair = [str(i), prev]\n",
    "    reaches.append(pair)\n",
    "\n",
    "ds.set_branch_indexes(\"Reach\", reaches)"
   ]
  },
  {
   "cell_type": "code",
   "execution_count": 6,
   "id": "4b2d8c52",
   "metadata": {},
   "outputs": [],
   "source": [
    "ds.read_parameters(\"templatepars.dat\")   # Reads just (some) parameters, not index sets"
   ]
  },
  {
   "cell_type": "code",
   "execution_count": 7,
   "id": "b4ed00a6",
   "metadata": {},
   "outputs": [],
   "source": [
    "ts = 2*3600\n",
    "#print(\"input time steps are %d\" % ts)\n",
    "fls = .5\n",
    "\n",
    "scale = fls + fls*np.arange(0, n_reaches, 1/float(n_reaches))\n",
    "vol = 5e4*np.ones(ts)\n",
    "flow = 2*np.ones(ts)\n",
    "for i in range(n_reaches) :\n",
    "    ds.set_input_series(\"Reach volume\", [str(i)], vol*scale[i])\n",
    "    ds.set_input_series(\"Reach flow\",   [str(i)], flow*scale[i])"
   ]
  },
  {
   "cell_type": "code",
   "execution_count": 8,
   "id": "a52413fe",
   "metadata": {},
   "outputs": [],
   "source": [
    "dists = np.arange(0, 2000, 20)\n",
    "for i in range(100) :\n",
    "    ds.set_parameter_double(\"Distance from outlet\", [str(i)], dists[99-i])"
   ]
  },
  {
   "cell_type": "code",
   "execution_count": 9,
   "id": "ae42fe10",
   "metadata": {},
   "outputs": [],
   "source": [
    "for sp in species :\n",
    "    ds.set_parameter_double(\"Biomass at outlet\", [sp], 100)\n",
    "    #ds.set_parameter_double(\"Biomass distribution linear coeff\", [sp], 0.02)\n",
    "    ds.set_parameter_double(\"Biomass distribution exponential coeff\", [sp], 0.002)"
   ]
  },
  {
   "cell_type": "code",
   "execution_count": 10,
   "id": "ebe3b6b9",
   "metadata": {},
   "outputs": [],
   "source": [
    "ds.set_parameter_double(\"eDNA shedding rate per fish biomass\", [], 0.1)\n",
    "ds.set_parameter_double(\"eDNA decay rate\", [], 0.01)"
   ]
  },
  {
   "cell_type": "code",
   "execution_count": 11,
   "id": "914525e2",
   "metadata": {},
   "outputs": [
    {
     "data": {
      "text/plain": [
       "True"
      ]
     },
     "execution_count": 11,
     "metadata": {},
     "output_type": "execute_result"
    }
   ],
   "source": [
    "ds.run_model()"
   ]
  },
  {
   "cell_type": "code",
   "execution_count": 12,
   "id": "03d0be51",
   "metadata": {},
   "outputs": [
    {
     "data": {
      "text/plain": [
       "[<matplotlib.lines.Line2D at 0x217652c1820>]"
      ]
     },
     "execution_count": 12,
     "metadata": {},
     "output_type": "execute_result"
    },
    {
     "data": {
      "image/png": "[encoded data removed]",
      "text/plain": [
       "<Figure size 432x288 with 1 Axes>"
      ]
     },
     "metadata": {
      "needs_background": "light"
     },
     "output_type": "display_data"
    }
   ],
   "source": [
    "ts = ds.get_last_timesteps()\n",
    "sp = species[0]\n",
    "res = np.zeros(n_reaches)\n",
    "for i in range(n_reaches) :\n",
    "    res[99-i] = ds.get_result_series(\"eDNA concentration\", [sp, str(i)])[ts-1]\n",
    "    #res[99-i] = ds.get_result_series(\"Fish biomass\", [sp, str(i)])[ts-1]\n",
    "    #res[99-i] = ds.get_result_series(\"eDNA mass\", [sp, str(i)])[ts-1]\n",
    "plt.plot(res)"
   ]
  },
  {
   "cell_type": "code",
   "execution_count": null,
   "id": "7d7ebcda",
   "metadata": {},
   "outputs": [],
   "source": []
  }
 ],
 "metadata": {
  "kernelspec": {
   "display_name": "Python 3",
   "language": "python",
   "name": "python3"
  },
  "language_info": {
   "codemirror_mode": {
    "name": "ipython",
    "version": 3
   },
   "file_extension": ".py",
   "mimetype": "text/x-python",
   "name": "python",
   "nbconvert_exporter": "python",
   "pygments_lexer": "ipython3",
   "version": "3.8.8"
  }
 },
 "nbformat": 4,
 "nbformat_minor": 5
}

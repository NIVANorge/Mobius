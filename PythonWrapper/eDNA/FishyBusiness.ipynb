{
 "cells": [
  {
   "cell_type": "code",
   "execution_count": 2,
   "id": "dd915d0f",
   "metadata": {
    "scrolled": true
   },
   "outputs": [
    {
     "ename": "FileNotFoundError",
     "evalue": "[Errno 2] No such file or directory: '../mobius.py'",
     "output_type": "error",
     "traceback": [
      "\u001b[1;31m---------------------------------------------------------------------------\u001b[0m",
      "\u001b[1;31mFileNotFoundError\u001b[0m                         Traceback (most recent call last)",
      "Cell \u001b[1;32mIn[2], line 8\u001b[0m\n\u001b[0;32m      5\u001b[0m \u001b[38;5;28;01mimport\u001b[39;00m \u001b[38;5;21;01mmatplotlib\u001b[39;00m\u001b[38;5;21;01m.\u001b[39;00m\u001b[38;5;21;01mpyplot\u001b[39;00m \u001b[38;5;28;01mas\u001b[39;00m \u001b[38;5;21;01mplt\u001b[39;00m\n\u001b[0;32m      7\u001b[0m \u001b[38;5;66;03m#Settings for MOBIUS and its PythonWrapper\u001b[39;00m\n\u001b[1;32m----> 8\u001b[0m wr \u001b[38;5;241m=\u001b[39m \u001b[43mSourceFileLoader\u001b[49m\u001b[43m(\u001b[49m\u001b[38;5;124;43m\"\u001b[39;49m\u001b[38;5;124;43mmobius\u001b[39;49m\u001b[38;5;124;43m\"\u001b[39;49m\u001b[43m,\u001b[49m\u001b[43m \u001b[49m\u001b[38;5;124;43mr\u001b[39;49m\u001b[38;5;124;43m\"\u001b[39;49m\u001b[38;5;124;43m../mobius.py\u001b[39;49m\u001b[38;5;124;43m\"\u001b[39;49m\u001b[43m)\u001b[49m\u001b[38;5;241;43m.\u001b[39;49m\u001b[43mload_module\u001b[49m\u001b[43m(\u001b[49m\u001b[43m)\u001b[49m\n\u001b[0;32m      9\u001b[0m cu \u001b[38;5;241m=\u001b[39m SourceFileLoader(\u001b[38;5;124m\"\u001b[39m\u001b[38;5;124mmobius_calib_uncert_lmfit\u001b[39m\u001b[38;5;124m\"\u001b[39m, \u001b[38;5;124mr\u001b[39m\u001b[38;5;124m\"\u001b[39m\u001b[38;5;124m../mobius_calib_uncert_lmfit.py\u001b[39m\u001b[38;5;124m\"\u001b[39m)\u001b[38;5;241m.\u001b[39mload_module()\n",
      "File \u001b[1;32m<frozen importlib._bootstrap_external>:605\u001b[0m, in \u001b[0;36m_check_name_wrapper\u001b[1;34m(self, name, *args, **kwargs)\u001b[0m\n",
      "File \u001b[1;32m<frozen importlib._bootstrap_external>:1120\u001b[0m, in \u001b[0;36mload_module\u001b[1;34m(self, fullname)\u001b[0m\n",
      "File \u001b[1;32m<frozen importlib._bootstrap_external>:945\u001b[0m, in \u001b[0;36mload_module\u001b[1;34m(self, fullname)\u001b[0m\n",
      "File \u001b[1;32m<frozen importlib._bootstrap>:290\u001b[0m, in \u001b[0;36m_load_module_shim\u001b[1;34m(self, fullname)\u001b[0m\n",
      "File \u001b[1;32m<frozen importlib._bootstrap>:721\u001b[0m, in \u001b[0;36m_load\u001b[1;34m(spec)\u001b[0m\n",
      "File \u001b[1;32m<frozen importlib._bootstrap>:690\u001b[0m, in \u001b[0;36m_load_unlocked\u001b[1;34m(spec)\u001b[0m\n",
      "File \u001b[1;32m<frozen importlib._bootstrap_external>:936\u001b[0m, in \u001b[0;36mexec_module\u001b[1;34m(self, module)\u001b[0m\n",
      "File \u001b[1;32m<frozen importlib._bootstrap_external>:1073\u001b[0m, in \u001b[0;36mget_code\u001b[1;34m(self, fullname)\u001b[0m\n",
      "File \u001b[1;32m<frozen importlib._bootstrap_external>:1130\u001b[0m, in \u001b[0;36mget_data\u001b[1;34m(self, path)\u001b[0m\n",
      "\u001b[1;31mFileNotFoundError\u001b[0m: [Errno 2] No such file or directory: '../mobius.py'"
     ]
    }
   ],
   "source": [
    "#Importing \n",
    "from importlib.machinery import SourceFileLoader\n",
    "import pandas as pd\n",
    "import numpy  as np\n",
    "import matplotlib.pyplot as plt\n",
    "\n",
    "#Settings for MOBIUS and its PythonWrapper\n",
    "wr = SourceFileLoader(\"mobius\", r\"../mobius.py\").load_module()\n",
    "cu = SourceFileLoader(\"mobius_calib_uncert_lmfit\", r\"../mobius_calib_uncert_lmfit.py\").load_module()"
   ]
  },
  {
   "cell_type": "code",
   "execution_count": 1,
   "id": "f32794c5",
   "metadata": {},
   "outputs": [
    {
     "ename": "NameError",
     "evalue": "name 'wr' is not defined",
     "output_type": "error",
     "traceback": [
      "\u001b[1;31m---------------------------------------------------------------------------\u001b[0m",
      "\u001b[1;31mNameError\u001b[0m                                 Traceback (most recent call last)",
      "Cell \u001b[1;32mIn[1], line 1\u001b[0m\n\u001b[1;32m----> 1\u001b[0m \u001b[43mwr\u001b[49m\u001b[38;5;241m.\u001b[39minitialize(\u001b[38;5;124m\"\u001b[39m\u001b[38;5;124m../../Applications/eDNA/edna.dll\u001b[39m\u001b[38;5;124m\"\u001b[39m)\n",
      "\u001b[1;31mNameError\u001b[0m: name 'wr' is not defined"
     ]
    }
   ],
   "source": [
    "wr.initialize(\"../../Applications/eDNA/edna.dll\")"
   ]
  },
  {
   "cell_type": "code",
   "execution_count": null,
   "id": "9a6ac989",
   "metadata": {},
   "outputs": [],
   "source": [
    "ds = wr.DataSet.setup_with_blank_index_sets(\"input_template.dat\")"
   ]
  },
  {
   "cell_type": "code",
   "execution_count": null,
   "id": "3390094a",
   "metadata": {},
   "outputs": [],
   "source": [
    "species = [\"Test\"]\n",
    "ds.set_indexes(\"Fish species\", species)"
   ]
  },
  {
   "cell_type": "code",
   "execution_count": null,
   "id": "38e34aa5",
   "metadata": {},
   "outputs": [],
   "source": [
    "dists = np.arange(10000, 38000, 20)\n",
    "n_reaches = len(dists)\n",
    "\n",
    "reaches = []\n",
    "for i in range(n_reaches) :\n",
    "    prev = []\n",
    "    if i > 0 :\n",
    "        prev = [str(i-1)]\n",
    "    pair = [str(i), prev]\n",
    "    reaches.append(pair)\n",
    "\n",
    "ds.set_branch_indexes(\"Reach\", reaches)"
   ]
  },
  {
   "cell_type": "code",
   "execution_count": null,
   "id": "4b2d8c52",
   "metadata": {},
   "outputs": [],
   "source": [
    "ds.read_parameters(\"templatepars.dat\")   # Reads just (some) parameters, not index sets"
   ]
  },
  {
   "cell_type": "code",
   "execution_count": null,
   "id": "b4ed00a6",
   "metadata": {},
   "outputs": [],
   "source": [
    "ts = 2*3600\n",
    "#print(\"input time steps are %d\" % ts)\n",
    "fls = .5\n",
    "\n",
    "scale = fls + fls*np.arange(0, n_reaches, 1/float(n_reaches))\n",
    "vol = 5e4*np.ones(ts)\n",
    "flow = 2*np.ones(ts)\n",
    "for i in range(n_reaches) :\n",
    "    ds.set_input_series(\"Reach volume\", [str(i)], vol*scale[i])\n",
    "    ds.set_input_series(\"Reach flow\",   [str(i)], flow*scale[i])"
   ]
  },
  {
   "cell_type": "code",
   "execution_count": null,
   "id": "a52413fe",
   "metadata": {},
   "outputs": [],
   "source": [
    "#dists = np.arange(10000, 38000, 20)\n",
    "for i in range(n_reaches) :\n",
    "    ds.set_parameter_double(\"Distance from outlet\", [str(i)], dists[99-i])"
   ]
  },
  {
   "cell_type": "code",
   "execution_count": null,
   "id": "ae42fe10",
   "metadata": {},
   "outputs": [],
   "source": [
    "for sp in species :\n",
    "    ds.set_parameter_double(\"Biomass at outlet\", [sp], 100)\n",
    "    #ds.set_parameter_double(\"Biomass distribution linear coeff\", [sp], 0.02)\n",
    "    ds.set_parameter_double(\"Biomass distribution exponential coeff\", [sp], -0.002)"
   ]
  },
  {
   "cell_type": "code",
   "execution_count": null,
   "id": "ebe3b6b9",
   "metadata": {},
   "outputs": [],
   "source": [
    "ds.set_parameter_double(\"eDNA shedding rate per fish biomass\", [], 0.1)\n",
    "ds.set_parameter_double(\"eDNA decay rate\", [], 0.01)"
   ]
  },
  {
   "cell_type": "code",
   "execution_count": null,
   "id": "914525e2",
   "metadata": {},
   "outputs": [],
   "source": [
    "ds.run_model()"
   ]
  },
  {
   "cell_type": "code",
   "execution_count": null,
   "id": "03d0be51",
   "metadata": {},
   "outputs": [],
   "source": [
    "ts_last = ds.get_last_timesteps()\n",
    "ts_all = ds.get_next_timesteps()\n",
    "print(ts_all)\n",
    "sp = species[0]\n",
    "res = np.zeros(n_reaches)\n",
    "res_over_time = np.zeros(ts_all)\n",
    "res_over_time = ds.get_result_series(\"eDNA concentration\", [sp, \"99\"])\n",
    "#res_mat = np.zeros((n_reaches,ts_all))\n",
    "for i in range(n_reaches) :\n",
    "    res[99-i] = ds.get_result_series(\"eDNA concentration\", [sp, str(i)])[ts_last-1]\n",
    "    #res_mat[99-i][:] = ds.get_result_series(\"Fish biomass\", [sp, str(i)])\n",
    "    #res[99-i] = ds.get_result_series(\"eDNA mass\", [sp, str(i)])[ts-1]\n",
    "plt.plot(res)\n",
    "#plt.plot(res_over_time)\n",
    "#np.savetxt(\"test.csv\", res_mat, delimiter=\",\")\n",
    "#plt.imshow(res_mat, cmap='hot')\n",
    "#plt.show()"
   ]
  },
  {
   "cell_type": "code",
   "execution_count": null,
   "id": "7d7ebcda",
   "metadata": {},
   "outputs": [],
   "source": []
  }
 ],
 "metadata": {
  "kernelspec": {
   "display_name": "Python 3 (ipykernel)",
   "language": "python",
   "name": "python3"
  },
  "language_info": {
   "codemirror_mode": {
    "name": "ipython",
    "version": 3
   },
   "file_extension": ".py",
   "mimetype": "text/x-python",
   "name": "python",
   "nbconvert_exporter": "python",
   "pygments_lexer": "ipython3",
   "version": "3.11.3"
  }
 },
 "nbformat": 4,
 "nbformat_minor": 5
}

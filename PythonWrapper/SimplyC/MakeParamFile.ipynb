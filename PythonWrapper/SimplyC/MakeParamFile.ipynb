{
 "cells": [
  {
   "cell_type": "code",
   "execution_count": 11,
   "metadata": {},
   "outputs": [],
   "source": [
    "import numpy as np, imp, os, datetime as dt, pandas as pd, matplotlib.pyplot as plt\n",
    "\n",
    "# Path to folder containing wrapper modules\n",
    "wrapper_fpath = (r\"..\\inca.py\")\n",
    "optimize_funs_fpath = (r'..\\inca_calibration.py')\n",
    "\n",
    "wr = imp.load_source('inca',wrapper_fpath)\n",
    "cf = imp.load_source('inca_calibration', optimize_funs_fpath)"
   ]
  },
  {
   "cell_type": "code",
   "execution_count": 12,
   "metadata": {},
   "outputs": [],
   "source": [
    "wr.initialize('simplyc.dll')\n",
    "dataset = wr.DataSet.setup_from_parameter_and_input_files('../../Applications/SimplyC/SimplyC_params_noGW.dat',\n",
    "                                                            '../../Applications/SimplyC/langtjerninputs.dat')"
   ]
  },
  {
   "cell_type": "code",
   "execution_count": 13,
   "metadata": {},
   "outputs": [
    {
     "name": "stdout",
     "output_type": "stream",
     "text": [
      "Index sets: ['Reaches', 'Landscape units']\n",
      "Indices in 1st index set: ['Inlet']\n",
      "Indices in 2nd index set: ['Forest and bog']\n"
     ]
    }
   ],
   "source": [
    "print ('Index sets: %s' %dataset.get_index_sets())\n",
    "print ('Indices in 1st index set: %s' %dataset.get_indexes(dataset.get_index_sets()[0]))\n",
    "print ('Indices in 2nd index set: %s' %dataset.get_indexes(dataset.get_index_sets()[1]))"
   ]
  },
  {
   "cell_type": "code",
   "execution_count": 14,
   "metadata": {},
   "outputs": [
    {
     "data": {
      "text/plain": [
       "['Timesteps',\n",
       " 'Start date',\n",
       " 'Latitude',\n",
       " 'Initial snow depth as water equivalent',\n",
       " 'Degree-day factor for snowmelt',\n",
       " 'Proportion of precipitation that contributes to quick flow',\n",
       " 'PET reduction factor',\n",
       " 'Soil field capacity',\n",
       " 'Gradient of stream velocity-discharge relationship',\n",
       " 'Exponent of stream velocity-discharge relationship',\n",
       " 'Catchment area',\n",
       " 'Reach length',\n",
       " 'Initial in-stream flow',\n",
       " 'Soil water time constant',\n",
       " 'Land use proportions',\n",
       " 'Snow depth / soil temperature factor',\n",
       " 'Initial soil temperature',\n",
       " 'Soil thermal conductivity (W/m/°C, range 0.4-0.8) divided by soil specific heat capacity (MJ/m3/°C, range 1.0-1.3; more like 4-15 if there is freeze-thaw)',\n",
       " 'Gradient of the soil water [DOC] response to changing soil temperature',\n",
       " 'Coefficient describing intercept in [DOC]= m * soilT + c equation, as a proportion of the baseline DOC concentration',\n",
       " 'Baseline soil water DOC concentration']"
      ]
     },
     "execution_count": 14,
     "metadata": {},
     "output_type": "execute_result"
    }
   ],
   "source": [
    "paramTupleList = dataset.get_parameter_list()\n",
    "paramList = [i[0] for i in paramTupleList]\n",
    "paramList"
   ]
  },
  {
   "cell_type": "code",
   "execution_count": 15,
   "metadata": {},
   "outputs": [
    {
     "data": {
      "text/plain": [
       "['Degree-day factor for snowmelt',\n",
       " 'Proportion of precipitation that contributes to quick flow',\n",
       " 'PET reduction factor',\n",
       " 'Soil field capacity',\n",
       " 'Gradient of stream velocity-discharge relationship',\n",
       " 'Exponent of stream velocity-discharge relationship',\n",
       " 'Soil water time constant',\n",
       " 'Snow depth / soil temperature factor',\n",
       " 'Soil thermal conductivity (W/m/°C, range 0.4-0.8) divided by soil specific heat capacity (MJ/m3/°C, range 1.0-1.3; more like 4-15 if there is freeze-thaw)',\n",
       " 'Gradient of the soil water [DOC] response to changing soil temperature',\n",
       " 'Coefficient describing intercept in [DOC]= m * soilT + c equation, as a proportion of the baseline DOC concentration',\n",
       " 'Baseline soil water DOC concentration']"
      ]
     },
     "execution_count": 15,
     "metadata": {},
     "output_type": "execute_result"
    }
   ],
   "source": [
    "# Drop non-variable params\n",
    "constantParams = ['Timesteps','Start date', 'Latitude','Catchment area', 'Reach length', 'Land use proportions']\n",
    "initialParams = ['Initial snow depth as water equivalent','Initial in-stream flow', 'Initial soil temperature']\n",
    "paramList = [x for x in paramList if x not in constantParams]\n",
    "paramList = [x for x in paramList if x not in initialParams]\n",
    "paramList"
   ]
  },
  {
   "cell_type": "code",
   "execution_count": 8,
   "metadata": {},
   "outputs": [],
   "source": [
    "# Make a dataframe for params to go in and write to csv\n",
    "param_df = pd.DataFrame(data=paramList, index=np.arange(len(paramList)), columns=['Param_long'])\n",
    "fpath = r'C:\\Data\\GitHub\\INCABuilder\\PythonWrapper\\SimplyC\\param_ranges.csv'\n",
    "# param_df.to_csv(fpath)"
   ]
  },
  {
   "cell_type": "code",
   "execution_count": 10,
   "metadata": {},
   "outputs": [
    {
     "data": {
      "text/html": [
       "<div>\n",
       "<style scoped>\n",
       "    .dataframe tbody tr th:only-of-type {\n",
       "        vertical-align: middle;\n",
       "    }\n",
       "\n",
       "    .dataframe tbody tr th {\n",
       "        vertical-align: top;\n",
       "    }\n",
       "\n",
       "    .dataframe thead th {\n",
       "        text-align: right;\n",
       "    }\n",
       "</style>\n",
       "<table border=\"1\" class=\"dataframe\">\n",
       "  <thead>\n",
       "    <tr style=\"text-align: right;\">\n",
       "      <th></th>\n",
       "      <th>Param_long</th>\n",
       "      <th>Param short</th>\n",
       "      <th>Min</th>\n",
       "      <th>Max</th>\n",
       "    </tr>\n",
       "  </thead>\n",
       "  <tbody>\n",
       "    <tr>\n",
       "      <th>0</th>\n",
       "      <td>Degree-day factor for snowmelt</td>\n",
       "      <td>DDFmelt</td>\n",
       "      <td>0.10</td>\n",
       "      <td>5.00</td>\n",
       "    </tr>\n",
       "    <tr>\n",
       "      <th>1</th>\n",
       "      <td>Proportion of precipitation that contributes t...</td>\n",
       "      <td>fquick</td>\n",
       "      <td>0.00</td>\n",
       "      <td>0.99</td>\n",
       "    </tr>\n",
       "    <tr>\n",
       "      <th>2</th>\n",
       "      <td>PET reduction factor</td>\n",
       "      <td>alphaPET</td>\n",
       "      <td>0.00</td>\n",
       "      <td>2.00</td>\n",
       "    </tr>\n",
       "    <tr>\n",
       "      <th>3</th>\n",
       "      <td>Soil field capacity</td>\n",
       "      <td>FC</td>\n",
       "      <td>0.10</td>\n",
       "      <td>1000.00</td>\n",
       "    </tr>\n",
       "    <tr>\n",
       "      <th>4</th>\n",
       "      <td>Gradient of stream velocity-discharge relation...</td>\n",
       "      <td>a_Q</td>\n",
       "      <td>0.01</td>\n",
       "      <td>1.00</td>\n",
       "    </tr>\n",
       "  </tbody>\n",
       "</table>\n",
       "</div>"
      ],
      "text/plain": [
       "                                          Param_long Param short   Min  \\\n",
       "0                     Degree-day factor for snowmelt     DDFmelt  0.10   \n",
       "1  Proportion of precipitation that contributes t...      fquick  0.00   \n",
       "2                               PET reduction factor    alphaPET  0.00   \n",
       "3                                Soil field capacity          FC  0.10   \n",
       "4  Gradient of stream velocity-discharge relation...         a_Q  0.01   \n",
       "\n",
       "       Max  \n",
       "0     5.00  \n",
       "1     0.99  \n",
       "2     2.00  \n",
       "3  1000.00  \n",
       "4     1.00  "
      ]
     },
     "execution_count": 10,
     "metadata": {},
     "output_type": "execute_result"
    }
   ],
   "source": [
    "# Read in amended csv with short names and param ranges\n",
    "param_df = pd.read_csv(fpath, index_col=0)\n",
    "param_df.head()"
   ]
  },
  {
   "cell_type": "code",
   "execution_count": null,
   "metadata": {},
   "outputs": [],
   "source": []
  }
 ],
 "metadata": {
  "kernelspec": {
   "display_name": "Python 3",
   "language": "python",
   "name": "python3"
  },
  "language_info": {
   "codemirror_mode": {
    "name": "ipython",
    "version": 3
   },
   "file_extension": ".py",
   "mimetype": "text/x-python",
   "name": "python",
   "nbconvert_exporter": "python",
   "pygments_lexer": "ipython3",
   "version": "3.6.8"
  }
 },
 "nbformat": 4,
 "nbformat_minor": 2
}
